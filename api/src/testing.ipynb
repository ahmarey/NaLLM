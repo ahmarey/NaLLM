{
 "cells": [
  {
   "cell_type": "code",
   "execution_count": 1,
   "metadata": {},
   "outputs": [],
   "source": [
    "import os\n",
    "from typing import Optional\n",
    "from components.company_report import CompanyReport\n",
    "\n",
    "from components.data_disambiguation import DataDisambiguation\n",
    "from components.question_proposal_generator import (\n",
    "    QuestionProposalGenerator,\n",
    ")\n",
    "from components.summarize_cypher_result import SummarizeCypherResult\n",
    "from components.text2cypher import Text2Cypher\n",
    "from components.unstructured_data_extractor import (\n",
    "    DataExtractor,\n",
    "    DataExtractorWithSchema,\n",
    ")\n",
    "from driver.neo4j import Neo4jDatabase\n",
    "from fastapi import FastAPI, HTTPException, WebSocket, WebSocketDisconnect\n",
    "from fastapi.middleware.cors import CORSMiddleware\n",
    "from fastapi.responses import JSONResponse\n",
    "from fewshot_examples import get_fewshot_examples\n",
    "from llm.llama import LlamaChat\n",
    "from pydantic import BaseModel"
   ]
  },
  {
   "cell_type": "code",
   "execution_count": 2,
   "metadata": {},
   "outputs": [
    {
     "name": "stdout",
     "output_type": "stream",
     "text": [
      "\n",
      "  This is the schema representation of the Neo4j database.\n",
      "  Node properties are the following:\n",
      "  [{'properties': [{'property': 'name', 'type': 'STRING'}, {'property': 'id', 'type': 'STRING'}, {'property': 'summary', 'type': 'STRING'}], 'labels': 'Person'}, {'properties': [{'property': 'name', 'type': 'STRING'}, {'property': 'nbrEmployees', 'type': 'INTEGER'}, {'property': 'isDissolved', 'type': 'BOOLEAN'}, {'property': 'id', 'type': 'STRING'}, {'property': 'motto', 'type': 'STRING'}, {'property': 'summary', 'type': 'STRING'}, {'property': 'isPublic', 'type': 'BOOLEAN'}, {'property': 'revenue', 'type': 'FLOAT'}], 'labels': 'Organization'}, {'properties': [{'property': 'name', 'type': 'STRING'}, {'property': 'id', 'type': 'STRING'}], 'labels': 'IndustryCategory'}, {'properties': [{'property': 'id', 'type': 'STRING'}, {'property': 'summary', 'type': 'STRING'}, {'property': 'name', 'type': 'STRING'}], 'labels': 'City'}, {'properties': [{'property': 'name', 'type': 'STRING'}, {'property': 'id', 'type': 'STRING'}, {'property': 'summary', 'type': 'STRING'}], 'labels': 'Country'}, {'properties': [{'property': 'id', 'type': 'STRING'}, {'property': 'sentiment', 'type': 'FLOAT'}, {'property': 'author', 'type': 'STRING'}, {'property': 'siteName', 'type': 'STRING'}, {'property': 'summary', 'type': 'STRING'}, {'property': 'date', 'type': 'DATE_TIME'}, {'property': 'title', 'type': 'STRING'}], 'labels': 'Article'}, {'properties': [{'property': 'text', 'type': 'STRING'}, {'property': 'embedding', 'type': 'LIST'}], 'labels': 'Chunk'}, {'properties': [{'property': 'Question', 'type': 'STRING'}, {'property': 'Cypher', 'type': 'STRING'}, {'property': 'id', 'type': 'INTEGER'}, {'property': 'embedding', 'type': 'LIST'}], 'labels': 'Fewshot'}]\n",
      "  Relationship properties are the following:\n",
      "  []\n",
      "  The relationships are the following\n",
      "  ['(:Person)-[:HAS_PARENT]->(:Person)', '(:Person)-[:HAS_CHILD]->(:Person)', '(:Organization)-[:HAS_SUPPLIER]->(:Organization)', '(:Organization)-[:IN_CITY]->(:City)', '(:Organization)-[:HAS_CEO]->(:Person)', '(:Organization)-[:HAS_BOARD_MEMBER]->(:Person)', '(:Organization)-[:HAS_CATEGORY]->(:IndustryCategory)', '(:Organization)-[:HAS_INVESTOR]->(:Organization)', '(:Organization)-[:HAS_SUBSIDIARY]->(:Organization)', '(:Organization)-[:HAS_COMPETITOR]->(:Organization)', '(:City)-[:IN_COUNTRY]->(:Country)', '(:Article)-[:HAS_CHUNK]->(:Chunk)', '(:Article)-[:MENTIONS]->(:Organization)']\n",
      "  \n"
     ]
    }
   ],
   "source": [
    "HARD_LIMIT_CONTEXT_RECORDS = 10\n",
    "\n",
    "neo4j_connection = Neo4jDatabase(\n",
    "    host=os.environ.get(\"NEO4J_URL\", \"neo4j+s://demo.neo4jlabs.com\"),\n",
    "    user=os.environ.get(\"NEO4J_USER\", \"companies\"),\n",
    "    password=os.environ.get(\"NEO4J_PASS\", \"companies\"),\n",
    "    database=os.environ.get(\"NEO4J_DATABASE\", \"companies\"),\n",
    ")"
   ]
  },
  {
   "cell_type": "code",
   "execution_count": 3,
   "metadata": {},
   "outputs": [
    {
     "name": "stdout",
     "output_type": "stream",
     "text": [
      "getting the model\n"
     ]
    },
    {
     "name": "stdout",
     "output_type": "stream",
     "text": [
      "Done!!!!!!\n",
      "getting the model\n",
      "Done!!!!!!\n"
     ]
    }
   ],
   "source": [
    "default_llm = LlamaChat()\n",
    "summarize_results = SummarizeCypherResult(\n",
    "    llm=LlamaChat(\n",
    "        max_tokens=128,\n",
    "    )\n",
    ")"
   ]
  },
  {
   "cell_type": "code",
   "execution_count": 4,
   "metadata": {},
   "outputs": [],
   "source": [
    "text2cypher = Text2Cypher(\n",
    "                database=neo4j_connection,\n",
    "                llm=default_llm,\n",
    "                cypher_examples=get_fewshot_examples(),\n",
    "            )"
   ]
  },
  {
   "cell_type": "code",
   "execution_count": 5,
   "metadata": {},
   "outputs": [],
   "source": [
    "question = {\"type\": \"question\",\"data\": \"what is the dataset about\"}"
   ]
  },
  {
   "cell_type": "code",
   "execution_count": 11,
   "metadata": {},
   "outputs": [
    {
     "name": "stdout",
     "output_type": "stream",
     "text": [
      "received question: {'type': 'question', 'data': 'what is the dataset about'}\n",
      "can only concatenate str (not \"dict\") to str\n",
      "Could not generate Cypher statement\n"
     ]
    },
    {
     "ename": "TypeError",
     "evalue": "'NoneType' object is not subscriptable",
     "output_type": "error",
     "traceback": [
      "\u001b[0;31m---------------------------------------------------------------------------\u001b[0m",
      "\u001b[0;31mTypeError\u001b[0m                                 Traceback (most recent call last)",
      "\u001b[1;32m/home/ubuntu/Data/NaLLM/api/src/testing.ipynb Cell 6\u001b[0m line \u001b[0;36m1\n\u001b[1;32m     <a href='vscode-notebook-cell://ssh-remote%2Bfrank2/home/ubuntu/Data/NaLLM/api/src/testing.ipynb#W4sdnNjb2RlLXJlbW90ZQ%3D%3D?line=12'>13</a>\u001b[0m     \u001b[39mprint\u001b[39m(\u001b[39m\"\u001b[39m\u001b[39mCould not generate Cypher statement\u001b[39m\u001b[39m\"\u001b[39m)\n\u001b[1;32m     <a href='vscode-notebook-cell://ssh-remote%2Bfrank2/home/ubuntu/Data/NaLLM/api/src/testing.ipynb#W4sdnNjb2RlLXJlbW90ZQ%3D%3D?line=13'>14</a>\u001b[0m     \u001b[39m# continue\u001b[39;00m\n\u001b[1;32m     <a href='vscode-notebook-cell://ssh-remote%2Bfrank2/home/ubuntu/Data/NaLLM/api/src/testing.ipynb#W4sdnNjb2RlLXJlbW90ZQ%3D%3D?line=16'>17</a>\u001b[0m output \u001b[39m=\u001b[39m summarize_results\u001b[39m.\u001b[39mrun_async(\n\u001b[1;32m     <a href='vscode-notebook-cell://ssh-remote%2Bfrank2/home/ubuntu/Data/NaLLM/api/src/testing.ipynb#W4sdnNjb2RlLXJlbW90ZQ%3D%3D?line=17'>18</a>\u001b[0m     question,\n\u001b[0;32m---> <a href='vscode-notebook-cell://ssh-remote%2Bfrank2/home/ubuntu/Data/NaLLM/api/src/testing.ipynb#W4sdnNjb2RlLXJlbW90ZQ%3D%3D?line=18'>19</a>\u001b[0m     results[\u001b[39m\"\u001b[39;49m\u001b[39moutput\u001b[39;49m\u001b[39m\"\u001b[39;49m][:HARD_LIMIT_CONTEXT_RECORDS],\n\u001b[1;32m     <a href='vscode-notebook-cell://ssh-remote%2Bfrank2/home/ubuntu/Data/NaLLM/api/src/testing.ipynb#W4sdnNjb2RlLXJlbW90ZQ%3D%3D?line=19'>20</a>\u001b[0m )\n\u001b[1;32m     <a href='vscode-notebook-cell://ssh-remote%2Bfrank2/home/ubuntu/Data/NaLLM/api/src/testing.ipynb#W4sdnNjb2RlLXJlbW90ZQ%3D%3D?line=20'>21</a>\u001b[0m chatHistory\u001b[39m.\u001b[39mappend({\u001b[39m\"\u001b[39m\u001b[39mrole\u001b[39m\u001b[39m\"\u001b[39m: \u001b[39m\"\u001b[39m\u001b[39msystem\u001b[39m\u001b[39m\"\u001b[39m, \u001b[39m\"\u001b[39m\u001b[39mcontent\u001b[39m\u001b[39m\"\u001b[39m: output})\n",
      "\u001b[0;31mTypeError\u001b[0m: 'NoneType' object is not subscriptable"
     ]
    }
   ],
   "source": [
    "# question = data[\"question\"]\n",
    "chatHistory = []\n",
    "chatHistory.append({\"role\": \"user\", \"content\": question})\n",
    "print(f\"received question: {question}\")\n",
    "results = None\n",
    "try:\n",
    "    results = text2cypher.run(question, chatHistory)\n",
    "    print(\"results\", results)\n",
    "except Exception as e:\n",
    "    print(str(e))\n",
    "    # continue\n",
    "if results is None:\n",
    "    print(\"Could not generate Cypher statement\")\n",
    "    # continue\n",
    "\n",
    "\n",
    "output = summarize_results.run_async(\n",
    "    question,\n",
    "    results[\"output\"][:HARD_LIMIT_CONTEXT_RECORDS],\n",
    ")\n",
    "chatHistory.append({\"role\": \"system\", \"content\": output})"
   ]
  },
  {
   "cell_type": "code",
   "execution_count": 13,
   "metadata": {},
   "outputs": [],
   "source": [
    "results"
   ]
  },
  {
   "cell_type": "code",
   "execution_count": 10,
   "metadata": {},
   "outputs": [
    {
     "ename": "NameError",
     "evalue": "name 'onToken' is not defined",
     "output_type": "error",
     "traceback": [
      "\u001b[0;31m---------------------------------------------------------------------------\u001b[0m",
      "\u001b[0;31mNameError\u001b[0m                                 Traceback (most recent call last)",
      "\u001b[1;32m/home/ubuntu/Data/NaLLM/api/src/testing.ipynb Cell 7\u001b[0m line \u001b[0;36m1\n\u001b[0;32m----> <a href='vscode-notebook-cell://ssh-remote%2Bfrank2/home/ubuntu/Data/NaLLM/api/src/testing.ipynb#X10sdnNjb2RlLXJlbW90ZQ%3D%3D?line=0'>1</a>\u001b[0m onToken\n",
      "\u001b[0;31mNameError\u001b[0m: name 'onToken' is not defined"
     ]
    }
   ],
   "source": [
    "onToken"
   ]
  },
  {
   "cell_type": "code",
   "execution_count": null,
   "metadata": {},
   "outputs": [],
   "source": []
  }
 ],
 "metadata": {
  "kernelspec": {
   "display_name": "pytorch",
   "language": "python",
   "name": "python3"
  },
  "language_info": {
   "codemirror_mode": {
    "name": "ipython",
    "version": 3
   },
   "file_extension": ".py",
   "mimetype": "text/x-python",
   "name": "python",
   "nbconvert_exporter": "python",
   "pygments_lexer": "ipython3",
   "version": "3.10.12"
  },
  "orig_nbformat": 4
 },
 "nbformat": 4,
 "nbformat_minor": 2
}
